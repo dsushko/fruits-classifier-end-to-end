{
 "cells": [
  {
   "cell_type": "code",
   "execution_count": 1,
   "metadata": {},
   "outputs": [],
   "source": [
    "import numpy as np\n",
    "import pandas as pd\n",
    "\n",
    "from sklearn.metrics import confusion_matrix, accuracy_score\n",
    "from sklearn.tree import DecisionTreeClassifier"
   ]
  },
  {
   "cell_type": "code",
   "execution_count": 213,
   "metadata": {},
   "outputs": [],
   "source": [
    "class ClassifierValidator:\n",
    "\n",
    "    def __init__(self):\n",
    "        pass\n",
    "\n",
    "    def validate(self, model, test_df, test_y, \n",
    "                 train_df=None, \n",
    "                 train_y=None,  \n",
    "                 predict_only=True,\n",
    "                 metrics=[]\n",
    "                ):\n",
    "        if not predict_only:\n",
    "            model.fit(train_df, train_y)\n",
    "\n",
    "        pred_y = model.predict(test_df)\n",
    "\n",
    "        self.cf_labels = np.sort(np.unique(test_y))\n",
    "        self.confusion_matrix = confusion_matrix(test_y, pred_y, labels=self.cf_labels)\n",
    "        \n",
    "        scores = {}\n",
    "        for metric in metrics:\n",
    "            scores[metric.__name__] = metric(test_y, pred_y)\n",
    "        \n",
    "        return scores\n"
   ]
  },
  {
   "cell_type": "code",
   "execution_count": 214,
   "metadata": {},
   "outputs": [
    {
     "data": {
      "text/plain": [
       "{'accuracy_score': 0.6666666666666666}"
      ]
     },
     "execution_count": 214,
     "metadata": {},
     "output_type": "execute_result"
    }
   ],
   "source": [
    "train_df = pd.DataFrame(np.array([[1,2], [2,4], [3,6]]))\n",
    "test_df = pd.DataFrame(np.array([[3, 4], [6, 8], [9, 12]]))\n",
    "\n",
    "train_y = np.array([1, 2, 3])\n",
    "test_y = np.array([2, 3, 1])\n",
    "\n",
    "metrics = [accuracy_score]\n",
    "# read macro and micro f1, f-beta\n",
    "\n",
    "model = DecisionTreeClassifier(random_state=1)\n",
    "\n",
    "validator = ClassifierValidator()\n",
    "\n",
    "validator.validate(model, test_df, test_y, train_df, train_y, predict_only=False, metrics=metrics)"
   ]
  },
  {
   "cell_type": "code",
   "execution_count": 215,
   "metadata": {},
   "outputs": [
    {
     "data": {
      "text/plain": [
       "(array([[0, 0, 1],\n",
       "        [0, 1, 0],\n",
       "        [0, 0, 1]], dtype=int64),\n",
       " array([1, 2, 3]))"
      ]
     },
     "execution_count": 215,
     "metadata": {},
     "output_type": "execute_result"
    }
   ],
   "source": [
    "validator.confusion_matrix, validator.cf_labels"
   ]
  },
  {
   "cell_type": "code",
   "execution_count": null,
   "metadata": {},
   "outputs": [],
   "source": [
    "# next !\n",
    "#\n",
    "# --------\n",
    "# \n",
    "# \n",
    "# baseline\n",
    "#\n",
    "# aim - click-like cls model call"
   ]
  },
  {
   "cell_type": "code",
   "execution_count": null,
   "metadata": {},
   "outputs": [],
   "source": [
    "# raw data -> nice data (preprocessor)\n",
    "# predictor (classifier)"
   ]
  }
 ],
 "metadata": {
  "interpreter": {
   "hash": "8f0fa1c098f607fd5c5f44bcea68efad758ed2eacaa4c1ac80ae4713d116068f"
  },
  "kernelspec": {
   "display_name": "Python 3.9.7 ('base')",
   "language": "python",
   "name": "python3"
  },
  "language_info": {
   "codemirror_mode": {
    "name": "ipython",
    "version": 3
   },
   "file_extension": ".py",
   "mimetype": "text/x-python",
   "name": "python",
   "nbconvert_exporter": "python",
   "pygments_lexer": "ipython3",
   "version": "3.9.7"
  },
  "orig_nbformat": 4
 },
 "nbformat": 4,
 "nbformat_minor": 2
}
